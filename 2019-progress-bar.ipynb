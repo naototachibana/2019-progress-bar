{
  "nbformat": 4,
  "nbformat_minor": 0,
  "metadata": {
    "colab": {
      "name": "2019-progress-bar.ipynb",
      "version": "0.3.2",
      "provenance": []
    },
    "kernelspec": {
      "name": "python3",
      "display_name": "Python 3"
    }
  },
  "cells": [
    {
      "cell_type": "code",
      "metadata": {
        "id": "ddnLHr7x0tH3",
        "colab_type": "code",
        "colab": {}
      },
      "source": [
        "import datetime\n",
        "\n",
        "\n",
        "now = datetime.datetime.now()\n",
        "\n",
        "start = datetime.date(now.year, 1, 1)\n",
        "end = datetime.date(now.year, 12, 31)\n",
        "today = datetime.date.today()\n",
        "\n",
        "elapsed_days = int((today-start).days)+1\n",
        "num_days_1year = int((end-start).days)+1\n",
        "\n",
        "print (\"2019 is \"+ str(int(100*elapsed_days/num_days_1year)) +\" % complete.\")"
      ],
      "execution_count": 0,
      "outputs": []
    }
  ]
}