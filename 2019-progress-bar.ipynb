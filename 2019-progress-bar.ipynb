{
  "nbformat": 4,
  "nbformat_minor": 0,
  "metadata": {
    "colab": {
      "name": "2019-progress-bar.ipynb",
      "version": "0.3.2",
      "provenance": []
    },
    "kernelspec": {
      "name": "python3",
      "display_name": "Python 3"
    }
  },
  "cells": [
    {
      "cell_type": "code",
      "metadata": {
        "id": "HaAY6XMJ1P8_",
        "colab_type": "code",
        "colab": {
          "base_uri": "https://localhost:8080/",
          "height": 34
        },
        "outputId": "b452c0ef-0cd2-4a93-881c-baca30d54f1b"
      },
      "source": [
        "import datetime\n",
        "print (str(datetime.datetime.now().year)+ \" is \" + str(int(100*(int((datetime.date.today()-datetime.date(datetime.datetime.now().year, 1, 1)).days)+1)/ (int((  datetime.date(datetime.datetime.now().year, 12, 31) - datetime.date(now.year, 1, 1) ).days)+1) ) ) +\" % complete.\")"
      ],
      "execution_count": 15,
      "outputs": [
        {
          "output_type": "stream",
          "text": [
            "2019 is 39 % complete.\n"
          ],
          "name": "stdout"
        }
      ]
    },
    {
      "cell_type": "code",
      "metadata": {
        "id": "E0qcC_-g22kY",
        "colab_type": "code",
        "colab": {}
      },
      "source": [
        "import datetime\n",
        "\n",
        "now = datetime.datetime.now()\n",
        "start = datetime.date(now.year, 1, 1)\n",
        "end = datetime.date(now.year, 12, 31)\n",
        "today = datetime.date.today()\n",
        "\n",
        "elapsed_days = int((today-start).days)+1\n",
        "num_days_1year = int((end-start).days)+1\n",
        "\n",
        "print (str(now.year)+ \" is \" + str(int(100*elapsed_days/num_days_1year)) +\" % complete.\")"
      ],
      "execution_count": 0,
      "outputs": []
    }
  ]
}